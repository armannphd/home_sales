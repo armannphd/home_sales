{
 "cells": [
  {
   "cell_type": "code",
   "execution_count": 1,
   "metadata": {
    "ExecuteTime": {
     "end_time": "2023-05-21T20:02:22.776668Z",
     "start_time": "2023-05-21T20:02:22.377908Z"
    },
    "colab": {
     "base_uri": "https://localhost:8080/"
    },
    "id": "a_KW73O2e3dw",
    "outputId": "fa5fd2b3-e2de-491b-ee1c-405317ba7ebc"
   },
   "outputs": [],
   "source": [
    "# Import findspark and initialize. \n",
    "import findspark\n",
    "findspark.init()\n",
    "\n",
    "import warnings\n",
    "warnings.filterwarnings('ignore')\n",
    "\n",
    "import pandas as pd"
   ]
  },
  {
   "cell_type": "code",
   "execution_count": 2,
   "metadata": {
    "ExecuteTime": {
     "end_time": "2023-05-21T20:02:25.256430Z",
     "start_time": "2023-05-21T20:02:23.540155Z"
    },
    "id": "2XbWNf1Te5fM"
   },
   "outputs": [
    {
     "name": "stdout",
     "output_type": "stream",
     "text": [
      "23/05/21 13:02:24 WARN Utils: Your hostname, As-MacBook-Air.local resolves to a loopback address: 127.0.0.1; using 10.0.0.17 instead (on interface en0)\n",
      "23/05/21 13:02:24 WARN Utils: Set SPARK_LOCAL_IP if you need to bind to another address\n"
     ]
    },
    {
     "name": "stderr",
     "output_type": "stream",
     "text": [
      "Setting default log level to \"WARN\".\n",
      "To adjust logging level use sc.setLogLevel(newLevel). For SparkR, use setLogLevel(newLevel).\n"
     ]
    },
    {
     "name": "stdout",
     "output_type": "stream",
     "text": [
      "23/05/21 13:02:24 WARN NativeCodeLoader: Unable to load native-hadoop library for your platform... using builtin-java classes where applicable\n",
      "23/05/21 13:02:25 WARN Utils: Service 'SparkUI' could not bind on port 4040. Attempting port 4041.\n"
     ]
    }
   ],
   "source": [
    "# Import packages\n",
    "from pyspark.sql import SparkSession\n",
    "import time\n",
    "\n",
    "# Create a SparkSession\n",
    "spark = SparkSession.builder.appName(\"SparkSQL\").getOrCreate()"
   ]
  },
  {
   "cell_type": "code",
   "execution_count": 3,
   "metadata": {
    "ExecuteTime": {
     "end_time": "2023-05-21T20:02:33.180395Z",
     "start_time": "2023-05-21T20:02:29.908443Z"
    },
    "colab": {
     "base_uri": "https://localhost:8080/"
    },
    "id": "wOJqxG_RPSwp",
    "outputId": "7857ef9f-5b04-405d-f5aa-e535dfe7870c"
   },
   "outputs": [],
   "source": [
    "# 1. Read in the AWS S3 bucket into a DataFrame.\n",
    "from pyspark import SparkFiles\n",
    "url = \"https://2u-data-curriculum-team.s3.amazonaws.com/dataviz-classroom/v1.2/22-big-data/home_sales_revised.csv\"\n",
    "\n",
    "spark.sparkContext.addFile(url)\n",
    "homesales_df = spark.read.csv(SparkFiles.get(\"home_sales_revised.csv\"), header=True, inferSchema=True)\n"
   ]
  },
  {
   "cell_type": "code",
   "execution_count": 4,
   "metadata": {
    "ExecuteTime": {
     "end_time": "2023-05-21T20:02:34.122190Z",
     "start_time": "2023-05-21T20:02:34.118327Z"
    }
   },
   "outputs": [],
   "source": [
    "# create a function to display the number of rows within spark.read.csv file, the column names, and sampling of data\n",
    "# function input is the spark.read.csv name, the falsehood (0.01 = 1% of data is sampled), and number of rows\n",
    "\n",
    "def display_df(df_name, sampling_percentage, num_rows):\n",
    "    print(f'The total number of rows is {format(df_name.count(), \",\")}')\n",
    "    df_sample = df_name.sample(False, sampling_percentage)  # looking only at a specified percentage of the data as looking at all data may be too large\n",
    "    pd.set_option('display.max_columns', None)  # Set option to display all columns, so no truncation will occur\n",
    "    df_sample_pandas = df_sample.toPandas()\n",
    "    return df_sample_pandas.sample(num_rows)\n"
   ]
  },
  {
   "cell_type": "code",
   "execution_count": 5,
   "metadata": {
    "ExecuteTime": {
     "end_time": "2023-05-21T20:02:35.623853Z",
     "start_time": "2023-05-21T20:02:35.128213Z"
    }
   },
   "outputs": [
    {
     "name": "stdout",
     "output_type": "stream",
     "text": [
      "The total number of rows is 33,287\n"
     ]
    },
    {
     "data": {
      "text/html": [
       "<div>\n",
       "<style scoped>\n",
       "    .dataframe tbody tr th:only-of-type {\n",
       "        vertical-align: middle;\n",
       "    }\n",
       "\n",
       "    .dataframe tbody tr th {\n",
       "        vertical-align: top;\n",
       "    }\n",
       "\n",
       "    .dataframe thead th {\n",
       "        text-align: right;\n",
       "    }\n",
       "</style>\n",
       "<table border=\"1\" class=\"dataframe\">\n",
       "  <thead>\n",
       "    <tr style=\"text-align: right;\">\n",
       "      <th></th>\n",
       "      <th>id</th>\n",
       "      <th>date</th>\n",
       "      <th>date_built</th>\n",
       "      <th>price</th>\n",
       "      <th>bedrooms</th>\n",
       "      <th>bathrooms</th>\n",
       "      <th>sqft_living</th>\n",
       "      <th>sqft_lot</th>\n",
       "      <th>floors</th>\n",
       "      <th>waterfront</th>\n",
       "      <th>view</th>\n",
       "    </tr>\n",
       "  </thead>\n",
       "  <tbody>\n",
       "    <tr>\n",
       "      <th>84</th>\n",
       "      <td>82d5ef85-8847-4e41-b229-7841dcad7d40</td>\n",
       "      <td>2022-04-19</td>\n",
       "      <td>2010</td>\n",
       "      <td>328550</td>\n",
       "      <td>3</td>\n",
       "      <td>3</td>\n",
       "      <td>1574</td>\n",
       "      <td>8793</td>\n",
       "      <td>1</td>\n",
       "      <td>0</td>\n",
       "      <td>16</td>\n",
       "    </tr>\n",
       "    <tr>\n",
       "      <th>73</th>\n",
       "      <td>2c6ad0e1-37f8-4a29-80c4-b4e2ef2770e8</td>\n",
       "      <td>2022-04-22</td>\n",
       "      <td>2015</td>\n",
       "      <td>447160</td>\n",
       "      <td>4</td>\n",
       "      <td>2</td>\n",
       "      <td>2333</td>\n",
       "      <td>12998</td>\n",
       "      <td>1</td>\n",
       "      <td>0</td>\n",
       "      <td>32</td>\n",
       "    </tr>\n",
       "    <tr>\n",
       "      <th>89</th>\n",
       "      <td>2b9713df-0f45-47ac-846e-bd847b9015fb</td>\n",
       "      <td>2021-10-19</td>\n",
       "      <td>2014</td>\n",
       "      <td>259045</td>\n",
       "      <td>4</td>\n",
       "      <td>2</td>\n",
       "      <td>1580</td>\n",
       "      <td>9101</td>\n",
       "      <td>1</td>\n",
       "      <td>0</td>\n",
       "      <td>41</td>\n",
       "    </tr>\n",
       "    <tr>\n",
       "      <th>95</th>\n",
       "      <td>06ddd213-0994-4d07-bfea-20b27f155078</td>\n",
       "      <td>2021-08-22</td>\n",
       "      <td>2013</td>\n",
       "      <td>372606</td>\n",
       "      <td>4</td>\n",
       "      <td>3</td>\n",
       "      <td>2427</td>\n",
       "      <td>9283</td>\n",
       "      <td>2</td>\n",
       "      <td>0</td>\n",
       "      <td>19</td>\n",
       "    </tr>\n",
       "    <tr>\n",
       "      <th>198</th>\n",
       "      <td>53e79e49-8c31-49ca-9759-10d4c50b1520</td>\n",
       "      <td>2019-12-18</td>\n",
       "      <td>2014</td>\n",
       "      <td>207596</td>\n",
       "      <td>2</td>\n",
       "      <td>2</td>\n",
       "      <td>1953</td>\n",
       "      <td>12022</td>\n",
       "      <td>2</td>\n",
       "      <td>0</td>\n",
       "      <td>14</td>\n",
       "    </tr>\n",
       "    <tr>\n",
       "      <th>181</th>\n",
       "      <td>908584db-759b-4343-8a55-4fb2fe40b49b</td>\n",
       "      <td>2020-08-16</td>\n",
       "      <td>2012</td>\n",
       "      <td>256507</td>\n",
       "      <td>3</td>\n",
       "      <td>2</td>\n",
       "      <td>1953</td>\n",
       "      <td>9190</td>\n",
       "      <td>2</td>\n",
       "      <td>0</td>\n",
       "      <td>29</td>\n",
       "    </tr>\n",
       "    <tr>\n",
       "      <th>239</th>\n",
       "      <td>222bbcdb-eda8-4f90-ab5c-d6e693c9641e</td>\n",
       "      <td>2020-06-12</td>\n",
       "      <td>2011</td>\n",
       "      <td>246795</td>\n",
       "      <td>3</td>\n",
       "      <td>2</td>\n",
       "      <td>2270</td>\n",
       "      <td>13360</td>\n",
       "      <td>2</td>\n",
       "      <td>0</td>\n",
       "      <td>4</td>\n",
       "    </tr>\n",
       "    <tr>\n",
       "      <th>62</th>\n",
       "      <td>68c03a99-de21-41f5-ad49-7c075eae9075</td>\n",
       "      <td>2022-02-10</td>\n",
       "      <td>2013</td>\n",
       "      <td>144344</td>\n",
       "      <td>3</td>\n",
       "      <td>2</td>\n",
       "      <td>1848</td>\n",
       "      <td>10795</td>\n",
       "      <td>2</td>\n",
       "      <td>0</td>\n",
       "      <td>35</td>\n",
       "    </tr>\n",
       "    <tr>\n",
       "      <th>118</th>\n",
       "      <td>47e4b064-8e4f-4d40-992e-fea2c7258e82</td>\n",
       "      <td>2019-02-23</td>\n",
       "      <td>2011</td>\n",
       "      <td>407593</td>\n",
       "      <td>3</td>\n",
       "      <td>2</td>\n",
       "      <td>1507</td>\n",
       "      <td>13477</td>\n",
       "      <td>1</td>\n",
       "      <td>0</td>\n",
       "      <td>42</td>\n",
       "    </tr>\n",
       "    <tr>\n",
       "      <th>172</th>\n",
       "      <td>b759d27a-1d26-413b-9755-add40e59d823</td>\n",
       "      <td>2022-03-16</td>\n",
       "      <td>2011</td>\n",
       "      <td>334057</td>\n",
       "      <td>3</td>\n",
       "      <td>3</td>\n",
       "      <td>1674</td>\n",
       "      <td>10564</td>\n",
       "      <td>2</td>\n",
       "      <td>0</td>\n",
       "      <td>42</td>\n",
       "    </tr>\n",
       "    <tr>\n",
       "      <th>135</th>\n",
       "      <td>a81fce8d-57fa-4c09-8301-1fe60b334a76</td>\n",
       "      <td>2022-02-05</td>\n",
       "      <td>2014</td>\n",
       "      <td>158151</td>\n",
       "      <td>4</td>\n",
       "      <td>2</td>\n",
       "      <td>1970</td>\n",
       "      <td>13729</td>\n",
       "      <td>2</td>\n",
       "      <td>0</td>\n",
       "      <td>37</td>\n",
       "    </tr>\n",
       "    <tr>\n",
       "      <th>33</th>\n",
       "      <td>1d97a768-c81a-44a7-94fa-8e1e443e1670</td>\n",
       "      <td>2021-10-27</td>\n",
       "      <td>2013</td>\n",
       "      <td>167739</td>\n",
       "      <td>4</td>\n",
       "      <td>3</td>\n",
       "      <td>2029</td>\n",
       "      <td>9072</td>\n",
       "      <td>2</td>\n",
       "      <td>0</td>\n",
       "      <td>37</td>\n",
       "    </tr>\n",
       "    <tr>\n",
       "      <th>116</th>\n",
       "      <td>176a8942-6a1b-424f-a9ba-6bb67531945a</td>\n",
       "      <td>2022-04-29</td>\n",
       "      <td>2010</td>\n",
       "      <td>435863</td>\n",
       "      <td>2</td>\n",
       "      <td>3</td>\n",
       "      <td>1515</td>\n",
       "      <td>14789</td>\n",
       "      <td>2</td>\n",
       "      <td>0</td>\n",
       "      <td>44</td>\n",
       "    </tr>\n",
       "    <tr>\n",
       "      <th>187</th>\n",
       "      <td>94a175a3-b93b-462f-a371-4eab6126246a</td>\n",
       "      <td>2019-04-24</td>\n",
       "      <td>2012</td>\n",
       "      <td>378542</td>\n",
       "      <td>4</td>\n",
       "      <td>2</td>\n",
       "      <td>2283</td>\n",
       "      <td>11050</td>\n",
       "      <td>2</td>\n",
       "      <td>0</td>\n",
       "      <td>48</td>\n",
       "    </tr>\n",
       "    <tr>\n",
       "      <th>282</th>\n",
       "      <td>05a34bd4-29e6-44d4-bd30-906e7a58fc89</td>\n",
       "      <td>2020-02-01</td>\n",
       "      <td>2012</td>\n",
       "      <td>196929</td>\n",
       "      <td>3</td>\n",
       "      <td>3</td>\n",
       "      <td>1856</td>\n",
       "      <td>8080</td>\n",
       "      <td>1</td>\n",
       "      <td>0</td>\n",
       "      <td>36</td>\n",
       "    </tr>\n",
       "    <tr>\n",
       "      <th>75</th>\n",
       "      <td>c5676934-96d2-4bdc-bd2d-327c367ec96f</td>\n",
       "      <td>2021-04-09</td>\n",
       "      <td>2012</td>\n",
       "      <td>379196</td>\n",
       "      <td>2</td>\n",
       "      <td>2</td>\n",
       "      <td>1716</td>\n",
       "      <td>8852</td>\n",
       "      <td>1</td>\n",
       "      <td>0</td>\n",
       "      <td>48</td>\n",
       "    </tr>\n",
       "    <tr>\n",
       "      <th>224</th>\n",
       "      <td>775aa25f-e969-4791-9324-8e802fb2a0cd</td>\n",
       "      <td>2020-08-31</td>\n",
       "      <td>2014</td>\n",
       "      <td>355279</td>\n",
       "      <td>2</td>\n",
       "      <td>3</td>\n",
       "      <td>1896</td>\n",
       "      <td>14330</td>\n",
       "      <td>1</td>\n",
       "      <td>0</td>\n",
       "      <td>37</td>\n",
       "    </tr>\n",
       "    <tr>\n",
       "      <th>148</th>\n",
       "      <td>a2cb262e-8a0f-4062-9003-f1d1c5184a2a</td>\n",
       "      <td>2021-04-11</td>\n",
       "      <td>2011</td>\n",
       "      <td>351786</td>\n",
       "      <td>3</td>\n",
       "      <td>2</td>\n",
       "      <td>1797</td>\n",
       "      <td>11753</td>\n",
       "      <td>2</td>\n",
       "      <td>0</td>\n",
       "      <td>34</td>\n",
       "    </tr>\n",
       "    <tr>\n",
       "      <th>90</th>\n",
       "      <td>5f418fdc-efa5-4d4e-8f7b-2ab18f5e0590</td>\n",
       "      <td>2021-04-25</td>\n",
       "      <td>2016</td>\n",
       "      <td>357320</td>\n",
       "      <td>3</td>\n",
       "      <td>2</td>\n",
       "      <td>1890</td>\n",
       "      <td>13131</td>\n",
       "      <td>2</td>\n",
       "      <td>0</td>\n",
       "      <td>36</td>\n",
       "    </tr>\n",
       "    <tr>\n",
       "      <th>159</th>\n",
       "      <td>1b7190b9-76e3-41a5-8dcf-c173eda9f38b</td>\n",
       "      <td>2022-01-06</td>\n",
       "      <td>2014</td>\n",
       "      <td>340448</td>\n",
       "      <td>2</td>\n",
       "      <td>2</td>\n",
       "      <td>1905</td>\n",
       "      <td>12852</td>\n",
       "      <td>1</td>\n",
       "      <td>0</td>\n",
       "      <td>16</td>\n",
       "    </tr>\n",
       "    <tr>\n",
       "      <th>325</th>\n",
       "      <td>bea31841-5917-4525-be21-14d902e269db</td>\n",
       "      <td>2022-03-09</td>\n",
       "      <td>2014</td>\n",
       "      <td>140362</td>\n",
       "      <td>2</td>\n",
       "      <td>2</td>\n",
       "      <td>1584</td>\n",
       "      <td>14485</td>\n",
       "      <td>1</td>\n",
       "      <td>0</td>\n",
       "      <td>11</td>\n",
       "    </tr>\n",
       "    <tr>\n",
       "      <th>339</th>\n",
       "      <td>6eab96bc-5d73-43a4-84ed-0c4dac9b03ea</td>\n",
       "      <td>2021-07-21</td>\n",
       "      <td>2014</td>\n",
       "      <td>215588</td>\n",
       "      <td>3</td>\n",
       "      <td>2</td>\n",
       "      <td>1746</td>\n",
       "      <td>14827</td>\n",
       "      <td>1</td>\n",
       "      <td>0</td>\n",
       "      <td>14</td>\n",
       "    </tr>\n",
       "    <tr>\n",
       "      <th>127</th>\n",
       "      <td>c3c57e10-3bf4-4d9a-9a2b-e4e5efa113f0</td>\n",
       "      <td>2019-04-02</td>\n",
       "      <td>2014</td>\n",
       "      <td>435418</td>\n",
       "      <td>3</td>\n",
       "      <td>3</td>\n",
       "      <td>1586</td>\n",
       "      <td>14337</td>\n",
       "      <td>1</td>\n",
       "      <td>0</td>\n",
       "      <td>4</td>\n",
       "    </tr>\n",
       "    <tr>\n",
       "      <th>196</th>\n",
       "      <td>9f6b3027-3542-42ef-83bf-7a895682e60a</td>\n",
       "      <td>2021-05-23</td>\n",
       "      <td>2015</td>\n",
       "      <td>214128</td>\n",
       "      <td>2</td>\n",
       "      <td>3</td>\n",
       "      <td>2199</td>\n",
       "      <td>9559</td>\n",
       "      <td>2</td>\n",
       "      <td>0</td>\n",
       "      <td>36</td>\n",
       "    </tr>\n",
       "    <tr>\n",
       "      <th>179</th>\n",
       "      <td>30d7c62e-fa29-4bfa-9bc9-06b438aeb1aa</td>\n",
       "      <td>2020-06-11</td>\n",
       "      <td>2015</td>\n",
       "      <td>246781</td>\n",
       "      <td>4</td>\n",
       "      <td>2</td>\n",
       "      <td>2144</td>\n",
       "      <td>8716</td>\n",
       "      <td>2</td>\n",
       "      <td>0</td>\n",
       "      <td>25</td>\n",
       "    </tr>\n",
       "    <tr>\n",
       "      <th>28</th>\n",
       "      <td>043466bf-6a07-4185-92e0-24583c596be7</td>\n",
       "      <td>2021-12-02</td>\n",
       "      <td>2012</td>\n",
       "      <td>186271</td>\n",
       "      <td>3</td>\n",
       "      <td>2</td>\n",
       "      <td>1765</td>\n",
       "      <td>13202</td>\n",
       "      <td>1</td>\n",
       "      <td>0</td>\n",
       "      <td>11</td>\n",
       "    </tr>\n",
       "    <tr>\n",
       "      <th>251</th>\n",
       "      <td>c4ee94e4-882c-42fa-a4c7-0e720835765d</td>\n",
       "      <td>2021-02-04</td>\n",
       "      <td>2015</td>\n",
       "      <td>289353</td>\n",
       "      <td>3</td>\n",
       "      <td>2</td>\n",
       "      <td>2284</td>\n",
       "      <td>10862</td>\n",
       "      <td>2</td>\n",
       "      <td>0</td>\n",
       "      <td>0</td>\n",
       "    </tr>\n",
       "    <tr>\n",
       "      <th>350</th>\n",
       "      <td>d09f0ff4-2326-48ea-821a-e230d43c5663</td>\n",
       "      <td>2020-02-16</td>\n",
       "      <td>2013</td>\n",
       "      <td>375539</td>\n",
       "      <td>3</td>\n",
       "      <td>2</td>\n",
       "      <td>1579</td>\n",
       "      <td>11751</td>\n",
       "      <td>1</td>\n",
       "      <td>0</td>\n",
       "      <td>17</td>\n",
       "    </tr>\n",
       "    <tr>\n",
       "      <th>97</th>\n",
       "      <td>4557d0ee-01dc-473e-a1cb-1189da7f3d9b</td>\n",
       "      <td>2019-08-01</td>\n",
       "      <td>2017</td>\n",
       "      <td>225148</td>\n",
       "      <td>3</td>\n",
       "      <td>3</td>\n",
       "      <td>2052</td>\n",
       "      <td>13417</td>\n",
       "      <td>2</td>\n",
       "      <td>0</td>\n",
       "      <td>30</td>\n",
       "    </tr>\n",
       "    <tr>\n",
       "      <th>207</th>\n",
       "      <td>124d4a91-2a05-47a1-82f8-3e85bb49c0c0</td>\n",
       "      <td>2021-07-19</td>\n",
       "      <td>2013</td>\n",
       "      <td>408632</td>\n",
       "      <td>3</td>\n",
       "      <td>3</td>\n",
       "      <td>2464</td>\n",
       "      <td>11666</td>\n",
       "      <td>2</td>\n",
       "      <td>0</td>\n",
       "      <td>15</td>\n",
       "    </tr>\n",
       "  </tbody>\n",
       "</table>\n",
       "</div>"
      ],
      "text/plain": [
       "                                       id       date  date_built   price  \\\n",
       "84   82d5ef85-8847-4e41-b229-7841dcad7d40 2022-04-19        2010  328550   \n",
       "73   2c6ad0e1-37f8-4a29-80c4-b4e2ef2770e8 2022-04-22        2015  447160   \n",
       "89   2b9713df-0f45-47ac-846e-bd847b9015fb 2021-10-19        2014  259045   \n",
       "95   06ddd213-0994-4d07-bfea-20b27f155078 2021-08-22        2013  372606   \n",
       "198  53e79e49-8c31-49ca-9759-10d4c50b1520 2019-12-18        2014  207596   \n",
       "181  908584db-759b-4343-8a55-4fb2fe40b49b 2020-08-16        2012  256507   \n",
       "239  222bbcdb-eda8-4f90-ab5c-d6e693c9641e 2020-06-12        2011  246795   \n",
       "62   68c03a99-de21-41f5-ad49-7c075eae9075 2022-02-10        2013  144344   \n",
       "118  47e4b064-8e4f-4d40-992e-fea2c7258e82 2019-02-23        2011  407593   \n",
       "172  b759d27a-1d26-413b-9755-add40e59d823 2022-03-16        2011  334057   \n",
       "135  a81fce8d-57fa-4c09-8301-1fe60b334a76 2022-02-05        2014  158151   \n",
       "33   1d97a768-c81a-44a7-94fa-8e1e443e1670 2021-10-27        2013  167739   \n",
       "116  176a8942-6a1b-424f-a9ba-6bb67531945a 2022-04-29        2010  435863   \n",
       "187  94a175a3-b93b-462f-a371-4eab6126246a 2019-04-24        2012  378542   \n",
       "282  05a34bd4-29e6-44d4-bd30-906e7a58fc89 2020-02-01        2012  196929   \n",
       "75   c5676934-96d2-4bdc-bd2d-327c367ec96f 2021-04-09        2012  379196   \n",
       "224  775aa25f-e969-4791-9324-8e802fb2a0cd 2020-08-31        2014  355279   \n",
       "148  a2cb262e-8a0f-4062-9003-f1d1c5184a2a 2021-04-11        2011  351786   \n",
       "90   5f418fdc-efa5-4d4e-8f7b-2ab18f5e0590 2021-04-25        2016  357320   \n",
       "159  1b7190b9-76e3-41a5-8dcf-c173eda9f38b 2022-01-06        2014  340448   \n",
       "325  bea31841-5917-4525-be21-14d902e269db 2022-03-09        2014  140362   \n",
       "339  6eab96bc-5d73-43a4-84ed-0c4dac9b03ea 2021-07-21        2014  215588   \n",
       "127  c3c57e10-3bf4-4d9a-9a2b-e4e5efa113f0 2019-04-02        2014  435418   \n",
       "196  9f6b3027-3542-42ef-83bf-7a895682e60a 2021-05-23        2015  214128   \n",
       "179  30d7c62e-fa29-4bfa-9bc9-06b438aeb1aa 2020-06-11        2015  246781   \n",
       "28   043466bf-6a07-4185-92e0-24583c596be7 2021-12-02        2012  186271   \n",
       "251  c4ee94e4-882c-42fa-a4c7-0e720835765d 2021-02-04        2015  289353   \n",
       "350  d09f0ff4-2326-48ea-821a-e230d43c5663 2020-02-16        2013  375539   \n",
       "97   4557d0ee-01dc-473e-a1cb-1189da7f3d9b 2019-08-01        2017  225148   \n",
       "207  124d4a91-2a05-47a1-82f8-3e85bb49c0c0 2021-07-19        2013  408632   \n",
       "\n",
       "     bedrooms  bathrooms  sqft_living  sqft_lot  floors  waterfront  view  \n",
       "84          3          3         1574      8793       1           0    16  \n",
       "73          4          2         2333     12998       1           0    32  \n",
       "89          4          2         1580      9101       1           0    41  \n",
       "95          4          3         2427      9283       2           0    19  \n",
       "198         2          2         1953     12022       2           0    14  \n",
       "181         3          2         1953      9190       2           0    29  \n",
       "239         3          2         2270     13360       2           0     4  \n",
       "62          3          2         1848     10795       2           0    35  \n",
       "118         3          2         1507     13477       1           0    42  \n",
       "172         3          3         1674     10564       2           0    42  \n",
       "135         4          2         1970     13729       2           0    37  \n",
       "33          4          3         2029      9072       2           0    37  \n",
       "116         2          3         1515     14789       2           0    44  \n",
       "187         4          2         2283     11050       2           0    48  \n",
       "282         3          3         1856      8080       1           0    36  \n",
       "75          2          2         1716      8852       1           0    48  \n",
       "224         2          3         1896     14330       1           0    37  \n",
       "148         3          2         1797     11753       2           0    34  \n",
       "90          3          2         1890     13131       2           0    36  \n",
       "159         2          2         1905     12852       1           0    16  \n",
       "325         2          2         1584     14485       1           0    11  \n",
       "339         3          2         1746     14827       1           0    14  \n",
       "127         3          3         1586     14337       1           0     4  \n",
       "196         2          3         2199      9559       2           0    36  \n",
       "179         4          2         2144      8716       2           0    25  \n",
       "28          3          2         1765     13202       1           0    11  \n",
       "251         3          2         2284     10862       2           0     0  \n",
       "350         3          2         1579     11751       1           0    17  \n",
       "97          3          3         2052     13417       2           0    30  \n",
       "207         3          3         2464     11666       2           0    15  "
      ]
     },
     "execution_count": 5,
     "metadata": {},
     "output_type": "execute_result"
    }
   ],
   "source": [
    "# display the home_sales\n",
    "display_df(homesales_df, 0.01, 30)"
   ]
  },
  {
   "cell_type": "code",
   "execution_count": 6,
   "metadata": {
    "ExecuteTime": {
     "end_time": "2023-05-21T20:02:36.889737Z",
     "start_time": "2023-05-21T20:02:36.859607Z"
    }
   },
   "outputs": [],
   "source": [
    "# 2. Create a temporary view of the DataFrame.\n",
    "homesales_df.createOrReplaceTempView(\"home_sales\")"
   ]
  },
  {
   "cell_type": "code",
   "execution_count": 7,
   "metadata": {
    "ExecuteTime": {
     "end_time": "2023-05-21T20:02:38.094766Z",
     "start_time": "2023-05-21T20:02:37.670844Z"
    }
   },
   "outputs": [
    {
     "name": "stdout",
     "output_type": "stream",
     "text": [
      "23/05/21 13:02:37 WARN GarbageCollectionMetrics: To enable non-built-in garbage collector(s) List(G1 Concurrent GC), users should configure it(them) to spark.eventLog.gcMetrics.youngGenerationGarbageCollectors or spark.eventLog.gcMetrics.oldGenerationGarbageCollectors\n"
     ]
    },
    {
     "data": {
      "text/html": [
       "<div>\n",
       "<style scoped>\n",
       "    .dataframe tbody tr th:only-of-type {\n",
       "        vertical-align: middle;\n",
       "    }\n",
       "\n",
       "    .dataframe tbody tr th {\n",
       "        vertical-align: top;\n",
       "    }\n",
       "\n",
       "    .dataframe thead th {\n",
       "        text-align: right;\n",
       "    }\n",
       "</style>\n",
       "<table border=\"1\" class=\"dataframe\">\n",
       "  <thead>\n",
       "    <tr style=\"text-align: right;\">\n",
       "      <th></th>\n",
       "      <th>year</th>\n",
       "      <th>avg_price</th>\n",
       "    </tr>\n",
       "  </thead>\n",
       "  <tbody>\n",
       "    <tr>\n",
       "      <th>0</th>\n",
       "      <td>2019</td>\n",
       "      <td>300263.70</td>\n",
       "    </tr>\n",
       "    <tr>\n",
       "      <th>1</th>\n",
       "      <td>2020</td>\n",
       "      <td>298353.78</td>\n",
       "    </tr>\n",
       "    <tr>\n",
       "      <th>2</th>\n",
       "      <td>2021</td>\n",
       "      <td>301819.44</td>\n",
       "    </tr>\n",
       "    <tr>\n",
       "      <th>3</th>\n",
       "      <td>2022</td>\n",
       "      <td>296363.88</td>\n",
       "    </tr>\n",
       "  </tbody>\n",
       "</table>\n",
       "</div>"
      ],
      "text/plain": [
       "   year  avg_price\n",
       "0  2019  300263.70\n",
       "1  2020  298353.78\n",
       "2  2021  301819.44\n",
       "3  2022  296363.88"
      ]
     },
     "execution_count": 7,
     "metadata": {},
     "output_type": "execute_result"
    }
   ],
   "source": [
    "# 3. What is the average price for a four bedroom house sold in each year rounded to two decimal places?\n",
    "avg_price_four_bed = spark.sql(\"\"\"\n",
    "SELECT \n",
    "    year(to_date(date, 'yyyy-MM-dd')) as year, \n",
    "    round(AVG(price), 2) as avg_price \n",
    "FROM \n",
    "    home_sales \n",
    "WHERE \n",
    "    bedrooms = 4\n",
    "GROUP BY \n",
    "    year\n",
    "ORDER BY \n",
    "    year\n",
    "\"\"\")\n",
    "\n",
    "# convert to pandas dataframe\n",
    "avg_price_four_bed_df = avg_price_four_bed.toPandas()\n",
    "avg_price_four_bed_df"
   ]
  },
  {
   "cell_type": "code",
   "execution_count": 8,
   "metadata": {
    "ExecuteTime": {
     "end_time": "2023-05-21T20:02:39.904338Z",
     "start_time": "2023-05-21T20:02:39.696031Z"
    },
    "colab": {
     "base_uri": "https://localhost:8080/"
    },
    "id": "l8p_tUS8h8it",
    "outputId": "65806e5f-6262-41c0-ff65-5107464e5c4d"
   },
   "outputs": [
    {
     "data": {
      "text/html": [
       "<div>\n",
       "<style scoped>\n",
       "    .dataframe tbody tr th:only-of-type {\n",
       "        vertical-align: middle;\n",
       "    }\n",
       "\n",
       "    .dataframe tbody tr th {\n",
       "        vertical-align: top;\n",
       "    }\n",
       "\n",
       "    .dataframe thead th {\n",
       "        text-align: right;\n",
       "    }\n",
       "</style>\n",
       "<table border=\"1\" class=\"dataframe\">\n",
       "  <thead>\n",
       "    <tr style=\"text-align: right;\">\n",
       "      <th></th>\n",
       "      <th>date_built</th>\n",
       "      <th>avg_price</th>\n",
       "    </tr>\n",
       "  </thead>\n",
       "  <tbody>\n",
       "    <tr>\n",
       "      <th>0</th>\n",
       "      <td>2010</td>\n",
       "      <td>292859.62</td>\n",
       "    </tr>\n",
       "    <tr>\n",
       "      <th>1</th>\n",
       "      <td>2011</td>\n",
       "      <td>291117.47</td>\n",
       "    </tr>\n",
       "    <tr>\n",
       "      <th>2</th>\n",
       "      <td>2012</td>\n",
       "      <td>293683.19</td>\n",
       "    </tr>\n",
       "    <tr>\n",
       "      <th>3</th>\n",
       "      <td>2013</td>\n",
       "      <td>295962.27</td>\n",
       "    </tr>\n",
       "    <tr>\n",
       "      <th>4</th>\n",
       "      <td>2014</td>\n",
       "      <td>290852.27</td>\n",
       "    </tr>\n",
       "    <tr>\n",
       "      <th>5</th>\n",
       "      <td>2015</td>\n",
       "      <td>288770.30</td>\n",
       "    </tr>\n",
       "    <tr>\n",
       "      <th>6</th>\n",
       "      <td>2016</td>\n",
       "      <td>290555.07</td>\n",
       "    </tr>\n",
       "    <tr>\n",
       "      <th>7</th>\n",
       "      <td>2017</td>\n",
       "      <td>292676.79</td>\n",
       "    </tr>\n",
       "  </tbody>\n",
       "</table>\n",
       "</div>"
      ],
      "text/plain": [
       "   date_built  avg_price\n",
       "0        2010  292859.62\n",
       "1        2011  291117.47\n",
       "2        2012  293683.19\n",
       "3        2013  295962.27\n",
       "4        2014  290852.27\n",
       "5        2015  288770.30\n",
       "6        2016  290555.07\n",
       "7        2017  292676.79"
      ]
     },
     "execution_count": 8,
     "metadata": {},
     "output_type": "execute_result"
    }
   ],
   "source": [
    "# 4. What is the average price of a home for each year the home was built that have 3 bedrooms and 3 bathrooms rounded to two decimal places?\n",
    "avg_price_3bed_3bath = spark.sql(\"\"\"\n",
    "SELECT \n",
    "    date_built,\n",
    "    round(AVG(price), 2) as avg_price \n",
    "FROM \n",
    "    home_sales \n",
    "WHERE \n",
    "    bedrooms = 3 AND bathrooms = 3\n",
    "GROUP BY \n",
    "    date_built\n",
    "ORDER BY \n",
    "    date_built\n",
    "\"\"\")\n",
    "\n",
    "# convert to pandas dataframe\n",
    "avg_price_3bed_3bath_df = avg_price_3bed_3bath.toPandas()\n",
    "avg_price_3bed_3bath_df\n",
    "\n"
   ]
  },
  {
   "cell_type": "code",
   "execution_count": 9,
   "metadata": {
    "ExecuteTime": {
     "end_time": "2023-05-21T20:02:42.157516Z",
     "start_time": "2023-05-21T20:02:41.968104Z"
    },
    "colab": {
     "base_uri": "https://localhost:8080/"
    },
    "id": "Y-Eytz64liDU",
    "outputId": "17119810-56ad-40c3-de5e-c3db57e43bcc"
   },
   "outputs": [
    {
     "data": {
      "text/html": [
       "<div>\n",
       "<style scoped>\n",
       "    .dataframe tbody tr th:only-of-type {\n",
       "        vertical-align: middle;\n",
       "    }\n",
       "\n",
       "    .dataframe tbody tr th {\n",
       "        vertical-align: top;\n",
       "    }\n",
       "\n",
       "    .dataframe thead th {\n",
       "        text-align: right;\n",
       "    }\n",
       "</style>\n",
       "<table border=\"1\" class=\"dataframe\">\n",
       "  <thead>\n",
       "    <tr style=\"text-align: right;\">\n",
       "      <th></th>\n",
       "      <th>date_built</th>\n",
       "      <th>avg_price</th>\n",
       "    </tr>\n",
       "  </thead>\n",
       "  <tbody>\n",
       "    <tr>\n",
       "      <th>0</th>\n",
       "      <td>2010</td>\n",
       "      <td>285010.22</td>\n",
       "    </tr>\n",
       "    <tr>\n",
       "      <th>1</th>\n",
       "      <td>2011</td>\n",
       "      <td>276553.81</td>\n",
       "    </tr>\n",
       "    <tr>\n",
       "      <th>2</th>\n",
       "      <td>2012</td>\n",
       "      <td>307539.97</td>\n",
       "    </tr>\n",
       "    <tr>\n",
       "      <th>3</th>\n",
       "      <td>2013</td>\n",
       "      <td>303676.79</td>\n",
       "    </tr>\n",
       "    <tr>\n",
       "      <th>4</th>\n",
       "      <td>2014</td>\n",
       "      <td>298264.72</td>\n",
       "    </tr>\n",
       "    <tr>\n",
       "      <th>5</th>\n",
       "      <td>2015</td>\n",
       "      <td>297609.97</td>\n",
       "    </tr>\n",
       "    <tr>\n",
       "      <th>6</th>\n",
       "      <td>2016</td>\n",
       "      <td>293965.10</td>\n",
       "    </tr>\n",
       "    <tr>\n",
       "      <th>7</th>\n",
       "      <td>2017</td>\n",
       "      <td>280317.58</td>\n",
       "    </tr>\n",
       "  </tbody>\n",
       "</table>\n",
       "</div>"
      ],
      "text/plain": [
       "   date_built  avg_price\n",
       "0        2010  285010.22\n",
       "1        2011  276553.81\n",
       "2        2012  307539.97\n",
       "3        2013  303676.79\n",
       "4        2014  298264.72\n",
       "5        2015  297609.97\n",
       "6        2016  293965.10\n",
       "7        2017  280317.58"
      ]
     },
     "execution_count": 9,
     "metadata": {},
     "output_type": "execute_result"
    }
   ],
   "source": [
    "#  5. What is the average price of a home for each year built that have 3 bedrooms, 3 bathrooms, with two floors,\n",
    "# and are greater than or equal to 2,000 square feet rounded to two decimal places?\n",
    "avg_price_3bed_3bath_2floors_gte2000sqft = spark.sql(\"\"\"\n",
    "SELECT \n",
    "    date_built,\n",
    "    round(AVG(price), 2) as avg_price \n",
    "FROM \n",
    "    home_sales \n",
    "WHERE \n",
    "    bedrooms = 3 AND \n",
    "    bathrooms = 3 AND \n",
    "    floors = 2 AND \n",
    "    sqft_living >= 2000\n",
    "GROUP BY \n",
    "    date_built\n",
    "ORDER BY \n",
    "    date_built\n",
    "\"\"\")\n",
    "\n",
    "# convert to pandas dataframe\n",
    "avg_price_3bed_3bath_2floors_gte2000sqft_df = avg_price_3bed_3bath_2floors_gte2000sqft.toPandas()\n",
    "avg_price_3bed_3bath_2floors_gte2000sqft_df\n",
    "\n"
   ]
  },
  {
   "cell_type": "code",
   "execution_count": 10,
   "metadata": {
    "ExecuteTime": {
     "end_time": "2023-05-21T20:02:44.162672Z",
     "start_time": "2023-05-21T20:02:44.046474Z"
    },
    "colab": {
     "base_uri": "https://localhost:8080/"
    },
    "id": "GUrfgOX1pCRd",
    "outputId": "17c25774-855e-4290-a4bd-a04902bdc13a"
   },
   "outputs": [
    {
     "name": "stdout",
     "output_type": "stream",
     "text": [
      "   avg_view_rating\n",
      "0            32.26\n",
      "--- 0.11185097694396973 seconds ---\n"
     ]
    }
   ],
   "source": [
    "# 6. What is the \"view\" rating for the average price of a home, rounded to two decimal places, where the homes are greater than\n",
    "# or equal to $350,000? Although this is a small dataset, determine the run time for this query.\n",
    "\n",
    "start_time = time.time()\n",
    "\n",
    "view_avg_gte350K = spark.sql(\"\"\"\n",
    "SELECT \n",
    "    round(AVG(view), 2) as avg_view_rating\n",
    "FROM \n",
    "    home_sales \n",
    "WHERE \n",
    "    price >= 350000\n",
    "\"\"\")\n",
    "\n",
    "# convert to pandas dataframe\n",
    "view_avg_gte350K_df = view_avg_gte350K.toPandas()\n",
    "print(view_avg_gte350K_df)\n",
    "\n",
    "\n",
    "\n",
    "print(\"--- %s seconds ---\" % (time.time() - start_time))"
   ]
  },
  {
   "cell_type": "code",
   "execution_count": 11,
   "metadata": {
    "ExecuteTime": {
     "end_time": "2023-05-21T20:02:45.857404Z",
     "start_time": "2023-05-21T20:02:45.613396Z"
    },
    "colab": {
     "base_uri": "https://localhost:8080/"
    },
    "id": "KAhk3ZD2tFy8",
    "outputId": "0a8f132d-40a8-4bd4-b5f2-2847e98427f5"
   },
   "outputs": [
    {
     "data": {
      "text/plain": [
       "DataFrame[]"
      ]
     },
     "execution_count": 11,
     "metadata": {},
     "output_type": "execute_result"
    }
   ],
   "source": [
    "# 7. Cache the the temporary table home_sales.\n",
    "spark.sql(\"CACHE TABLE home_sales\")\n"
   ]
  },
  {
   "cell_type": "code",
   "execution_count": 12,
   "metadata": {
    "ExecuteTime": {
     "end_time": "2023-05-21T20:02:46.578119Z",
     "start_time": "2023-05-21T20:02:46.558250Z"
    },
    "colab": {
     "base_uri": "https://localhost:8080/"
    },
    "id": "4opVhbvxtL-i",
    "outputId": "38ec8487-795f-4550-b50c-fcc6f2b7c769"
   },
   "outputs": [
    {
     "data": {
      "text/plain": [
       "True"
      ]
     },
     "execution_count": 12,
     "metadata": {},
     "output_type": "execute_result"
    }
   ],
   "source": [
    "# 8. Check if the table is cached.\n",
    "spark.catalog.isCached('home_sales')"
   ]
  },
  {
   "cell_type": "code",
   "execution_count": 13,
   "metadata": {
    "ExecuteTime": {
     "end_time": "2023-05-21T20:02:49.384044Z",
     "start_time": "2023-05-21T20:02:49.303249Z"
    },
    "colab": {
     "base_uri": "https://localhost:8080/"
    },
    "id": "5GnL46lwTSEk",
    "outputId": "09a16c73-194d-4371-95d1-ee64fe83b91c"
   },
   "outputs": [
    {
     "name": "stdout",
     "output_type": "stream",
     "text": [
      "   avg_view_rating\n",
      "0            32.26\n",
      "--- 0.07768583297729492 seconds ---\n"
     ]
    }
   ],
   "source": [
    "# 9. Using the cached data, run the query that filters out the view ratings with average price \n",
    "#  greater than or equal to $350,000. Determine the runtime and compare it to uncached runtime.\n",
    "\n",
    "start_time = time.time()\n",
    "\n",
    "view_avg_gte350K_cache = spark.sql(\"\"\"\n",
    "SELECT \n",
    "    round(AVG(view), 2) as avg_view_rating\n",
    "FROM \n",
    "    home_sales \n",
    "WHERE \n",
    "    price >= 350000\n",
    "\"\"\")\n",
    "\n",
    "# convert to pandas dataframe\n",
    "view_avg_gte350K_cache_df = view_avg_gte350K_cache.toPandas()\n",
    "print(view_avg_gte350K_cache_df)\n",
    "\n",
    "print(\"--- %s seconds ---\" % (time.time() - start_time))\n"
   ]
  },
  {
   "cell_type": "code",
   "execution_count": 14,
   "metadata": {
    "ExecuteTime": {
     "end_time": "2023-05-21T20:02:54.830280Z",
     "start_time": "2023-05-21T20:02:54.095703Z"
    },
    "id": "Qm12WN9isHBR"
   },
   "outputs": [],
   "source": [
    "# 10. Partition by the \"date_built\" field on the formatted parquet home sales data \n",
    "\n",
    "\n",
    "homesales_df.write.partitionBy(\"date_built\").mode(\"overwrite\").parquet(\"home_sales_partitioned\")\n"
   ]
  },
  {
   "cell_type": "code",
   "execution_count": 15,
   "metadata": {
    "ExecuteTime": {
     "end_time": "2023-05-21T20:02:56.890038Z",
     "start_time": "2023-05-21T20:02:56.820709Z"
    },
    "id": "AZ7BgY61sRqY"
   },
   "outputs": [],
   "source": [
    "# 11. Read the formatted parquet data.\n",
    "p_homesales_df=spark.read.parquet('home_sales_partitioned')"
   ]
  },
  {
   "cell_type": "code",
   "execution_count": 16,
   "metadata": {
    "ExecuteTime": {
     "end_time": "2023-05-21T20:02:58.359321Z",
     "start_time": "2023-05-21T20:02:58.347148Z"
    },
    "id": "J6MJkHfvVcvh"
   },
   "outputs": [],
   "source": [
    "# 12. Create a temporary table for the parquet data.\n",
    "p_homesales_df.createOrReplaceTempView('p_homesales_df')"
   ]
  },
  {
   "cell_type": "code",
   "execution_count": 17,
   "metadata": {
    "ExecuteTime": {
     "end_time": "2023-05-21T20:03:00.479682Z",
     "start_time": "2023-05-21T20:03:00.351222Z"
    },
    "colab": {
     "base_uri": "https://localhost:8080/"
    },
    "id": "G_Vhb52rU1Sn",
    "outputId": "a0b8d0c4-55ed-4c6c-bfd8-4c8c5334838e"
   },
   "outputs": [
    {
     "name": "stdout",
     "output_type": "stream",
     "text": [
      "   avg_view_rating\n",
      "0            32.26\n",
      "--- 0.12389397621154785 seconds ---\n"
     ]
    }
   ],
   "source": [
    "# 13. Run the query that filters out the view ratings with average price of greater than or eqaul to $350,000 \n",
    "# with the parquet DataFrame. Round your average to two decimal places. \n",
    "# Determine the runtime and compare it to the cached version. \n",
    "\n",
    "start_time = time.time()\n",
    "\n",
    "p_view_avg_gte350K_cache = spark.sql(\"\"\"\n",
    "SELECT \n",
    "    round(AVG(view), 2) as avg_view_rating\n",
    "FROM \n",
    "    p_homesales_df \n",
    "WHERE \n",
    "    price >= 350000\n",
    "\"\"\")\n",
    "\n",
    "# convert to pandas dataframe\n",
    "p_view_avg_gte350K_cache_df = p_view_avg_gte350K_cache.toPandas()\n",
    "print(p_view_avg_gte350K_cache_df)\n",
    "\n",
    "print(\"--- %s seconds ---\" % (time.time() - start_time))"
   ]
  },
  {
   "cell_type": "code",
   "execution_count": 18,
   "metadata": {
    "ExecuteTime": {
     "end_time": "2023-05-21T20:03:07.511327Z",
     "start_time": "2023-05-21T20:03:07.485345Z"
    },
    "colab": {
     "base_uri": "https://localhost:8080/"
    },
    "id": "hjjYzQGjtbq8",
    "outputId": "830549fd-bb41-451b-9183-5ebf6e3e470b"
   },
   "outputs": [
    {
     "data": {
      "text/plain": [
       "DataFrame[]"
      ]
     },
     "execution_count": 18,
     "metadata": {},
     "output_type": "execute_result"
    }
   ],
   "source": [
    "# 14. Uncache the home_sales temporary table.\n",
    "spark.sql(\"UNCACHE TABLE home_sales\")"
   ]
  },
  {
   "cell_type": "code",
   "execution_count": 19,
   "metadata": {
    "ExecuteTime": {
     "end_time": "2023-05-21T20:03:09.072481Z",
     "start_time": "2023-05-21T20:03:09.058917Z"
    },
    "colab": {
     "base_uri": "https://localhost:8080/"
    },
    "id": "Sy9NBvO7tlmm",
    "outputId": "be73e0e3-5e85-4794-aad9-025fb6fa84a7"
   },
   "outputs": [
    {
     "data": {
      "text/plain": [
       "False"
      ]
     },
     "execution_count": 19,
     "metadata": {},
     "output_type": "execute_result"
    }
   ],
   "source": [
    "# 15. Check if the home_sales is no longer cached\n",
    "\n",
    "spark.catalog.isCached(\"home_sales\")"
   ]
  },
  {
   "cell_type": "code",
   "execution_count": null,
   "metadata": {},
   "outputs": [],
   "source": []
  }
 ],
 "metadata": {
  "colab": {
   "collapsed_sections": [],
   "name": "Copy of Home_Sales_solution.ipynb",
   "provenance": []
  },
  "kernelspec": {
   "display_name": "neuralpython",
   "language": "python",
   "name": "neuralpython"
  },
  "language_info": {
   "codemirror_mode": {
    "name": "ipython",
    "version": 3
   },
   "file_extension": ".py",
   "mimetype": "text/x-python",
   "name": "python",
   "nbconvert_exporter": "python",
   "pygments_lexer": "ipython3",
   "version": "3.10.9"
  },
  "nteract": {
   "version": "0.28.0"
  }
 },
 "nbformat": 4,
 "nbformat_minor": 1
}
