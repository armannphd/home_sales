{
 "cells": [
  {
   "cell_type": "code",
   "execution_count": 1,
   "metadata": {
    "ExecuteTime": {
     "end_time": "2023-05-21T19:57:14.567435Z",
     "start_time": "2023-05-21T19:57:13.933742Z"
    },
    "colab": {
     "base_uri": "https://localhost:8080/"
    },
    "id": "a_KW73O2e3dw",
    "outputId": "fa5fd2b3-e2de-491b-ee1c-405317ba7ebc"
   },
   "outputs": [],
   "source": [
    "# Import findspark and initialize. \n",
    "import findspark\n",
    "findspark.init()\n",
    "\n",
    "import warnings\n",
    "warnings.filterwarnings('ignore')\n",
    "\n",
    "import pandas as pd"
   ]
  },
  {
   "cell_type": "code",
   "execution_count": 2,
   "metadata": {
    "ExecuteTime": {
     "end_time": "2023-05-21T19:57:16.893156Z",
     "start_time": "2023-05-21T19:57:15.344433Z"
    },
    "id": "2XbWNf1Te5fM"
   },
   "outputs": [
    {
     "name": "stderr",
     "output_type": "stream",
     "text": [
      "Setting default log level to \"WARN\".\n",
      "To adjust logging level use sc.setLogLevel(newLevel). For SparkR, use setLogLevel(newLevel).\n"
     ]
    },
    {
     "name": "stdout",
     "output_type": "stream",
     "text": [
      "23/05/21 12:57:16 WARN NativeCodeLoader: Unable to load native-hadoop library for your platform... using builtin-java classes where applicable\n"
     ]
    }
   ],
   "source": [
    "# Import packages\n",
    "from pyspark.sql import SparkSession\n",
    "import time\n",
    "\n",
    "# Create a SparkSession\n",
    "spark = SparkSession.builder.appName(\"SparkSQL\").getOrCreate()"
   ]
  },
  {
   "cell_type": "code",
   "execution_count": 4,
   "metadata": {
    "ExecuteTime": {
     "end_time": "2023-05-21T19:57:25.460126Z",
     "start_time": "2023-05-21T19:57:25.144167Z"
    },
    "colab": {
     "base_uri": "https://localhost:8080/"
    },
    "id": "wOJqxG_RPSwp",
    "outputId": "7857ef9f-5b04-405d-f5aa-e535dfe7870c"
   },
   "outputs": [
    {
     "name": "stdout",
     "output_type": "stream",
     "text": [
      "23/05/21 12:57:25 WARN SparkContext: The path https://2u-data-curriculum-team.s3.amazonaws.com/dataviz-classroom/v1.2/22-big-data/home_sales_revised.csv has been added already. Overwriting of added paths is not supported in the current version.\n",
      "23/05/21 12:57:35 WARN GarbageCollectionMetrics: To enable non-built-in garbage collector(s) List(G1 Concurrent GC), users should configure it(them) to spark.eventLog.gcMetrics.youngGenerationGarbageCollectors or spark.eventLog.gcMetrics.oldGenerationGarbageCollectors\n"
     ]
    }
   ],
   "source": [
    "# 1. Read in the AWS S3 bucket into a DataFrame.\n",
    "from pyspark import SparkFiles\n",
    "url = \"https://2u-data-curriculum-team.s3.amazonaws.com/dataviz-classroom/v1.2/22-big-data/home_sales_revised.csv\"\n",
    "\n",
    "spark.sparkContext.addFile(url)\n",
    "homesales_df = spark.read.csv(SparkFiles.get(\"home_sales_revised.csv\"), header=True, inferSchema=True)\n"
   ]
  },
  {
   "cell_type": "code",
   "execution_count": 5,
   "metadata": {
    "ExecuteTime": {
     "end_time": "2023-05-21T19:57:38.931865Z",
     "start_time": "2023-05-21T19:57:38.927388Z"
    }
   },
   "outputs": [],
   "source": [
    "# create a function to display the number of rows within spark.read.csv file, the column names, and sampling of data\n",
    "# function input is the spark.read.csv name, the falsehood (0.01 = 1% of data is sampled), and number of rows\n",
    "\n",
    "def display_df(df_name, sampling_percentage, num_rows):\n",
    "    print(f'The total number of rows is {format(df_name.count(), \",\")}')\n",
    "    df_sample = df_name.sample(False, sampling_percentage)  # looking only at a specified percentage of the data as looking at all data may be too large\n",
    "    pd.set_option('display.max_columns', None)  # Set option to display all columns, so no truncation will occur\n",
    "    df_sample_pandas = df_sample.toPandas()\n",
    "    return df_sample_pandas.sample(num_rows)\n"
   ]
  },
  {
   "cell_type": "code",
   "execution_count": 6,
   "metadata": {
    "ExecuteTime": {
     "end_time": "2023-05-21T19:57:47.290349Z",
     "start_time": "2023-05-21T19:57:46.861434Z"
    }
   },
   "outputs": [
    {
     "name": "stdout",
     "output_type": "stream",
     "text": [
      "The total number of rows is 33,287\n"
     ]
    },
    {
     "data": {
      "text/html": [
       "<div>\n",
       "<style scoped>\n",
       "    .dataframe tbody tr th:only-of-type {\n",
       "        vertical-align: middle;\n",
       "    }\n",
       "\n",
       "    .dataframe tbody tr th {\n",
       "        vertical-align: top;\n",
       "    }\n",
       "\n",
       "    .dataframe thead th {\n",
       "        text-align: right;\n",
       "    }\n",
       "</style>\n",
       "<table border=\"1\" class=\"dataframe\">\n",
       "  <thead>\n",
       "    <tr style=\"text-align: right;\">\n",
       "      <th></th>\n",
       "      <th>id</th>\n",
       "      <th>date</th>\n",
       "      <th>date_built</th>\n",
       "      <th>price</th>\n",
       "      <th>bedrooms</th>\n",
       "      <th>bathrooms</th>\n",
       "      <th>sqft_living</th>\n",
       "      <th>sqft_lot</th>\n",
       "      <th>floors</th>\n",
       "      <th>waterfront</th>\n",
       "      <th>view</th>\n",
       "    </tr>\n",
       "  </thead>\n",
       "  <tbody>\n",
       "    <tr>\n",
       "      <th>216</th>\n",
       "      <td>fa301e3a-abf2-431c-86a6-d3de64281341</td>\n",
       "      <td>2019-06-24</td>\n",
       "      <td>2010</td>\n",
       "      <td>166531</td>\n",
       "      <td>4</td>\n",
       "      <td>2</td>\n",
       "      <td>2409</td>\n",
       "      <td>13113</td>\n",
       "      <td>1</td>\n",
       "      <td>0</td>\n",
       "      <td>4</td>\n",
       "    </tr>\n",
       "    <tr>\n",
       "      <th>190</th>\n",
       "      <td>c95680ce-4d0f-48f8-8378-35e42fbf27cc</td>\n",
       "      <td>2019-09-29</td>\n",
       "      <td>2017</td>\n",
       "      <td>926152</td>\n",
       "      <td>5</td>\n",
       "      <td>6</td>\n",
       "      <td>3146</td>\n",
       "      <td>8811</td>\n",
       "      <td>2</td>\n",
       "      <td>0</td>\n",
       "      <td>100</td>\n",
       "    </tr>\n",
       "    <tr>\n",
       "      <th>343</th>\n",
       "      <td>2b20cbba-632f-44df-a184-138f4d01ef08</td>\n",
       "      <td>2020-10-16</td>\n",
       "      <td>2016</td>\n",
       "      <td>413815</td>\n",
       "      <td>3</td>\n",
       "      <td>2</td>\n",
       "      <td>1712</td>\n",
       "      <td>12963</td>\n",
       "      <td>2</td>\n",
       "      <td>0</td>\n",
       "      <td>30</td>\n",
       "    </tr>\n",
       "    <tr>\n",
       "      <th>264</th>\n",
       "      <td>ee9d596a-ccab-4326-89ad-a525d8d56c80</td>\n",
       "      <td>2021-12-15</td>\n",
       "      <td>2010</td>\n",
       "      <td>669650</td>\n",
       "      <td>5</td>\n",
       "      <td>4</td>\n",
       "      <td>3749</td>\n",
       "      <td>12102</td>\n",
       "      <td>1</td>\n",
       "      <td>1</td>\n",
       "      <td>60</td>\n",
       "    </tr>\n",
       "    <tr>\n",
       "      <th>252</th>\n",
       "      <td>38736c6b-813d-4d04-bafd-ab9e2430e3fa</td>\n",
       "      <td>2020-11-21</td>\n",
       "      <td>2016</td>\n",
       "      <td>333248</td>\n",
       "      <td>2</td>\n",
       "      <td>2</td>\n",
       "      <td>2013</td>\n",
       "      <td>14007</td>\n",
       "      <td>2</td>\n",
       "      <td>0</td>\n",
       "      <td>36</td>\n",
       "    </tr>\n",
       "    <tr>\n",
       "      <th>114</th>\n",
       "      <td>363dc0a0-23ba-402b-b046-1cfc55010076</td>\n",
       "      <td>2022-05-19</td>\n",
       "      <td>2015</td>\n",
       "      <td>261886</td>\n",
       "      <td>3</td>\n",
       "      <td>3</td>\n",
       "      <td>2294</td>\n",
       "      <td>12438</td>\n",
       "      <td>2</td>\n",
       "      <td>0</td>\n",
       "      <td>39</td>\n",
       "    </tr>\n",
       "    <tr>\n",
       "      <th>164</th>\n",
       "      <td>b4471c22-e001-45dc-aec2-6311afd96515</td>\n",
       "      <td>2019-04-11</td>\n",
       "      <td>2017</td>\n",
       "      <td>295901</td>\n",
       "      <td>4</td>\n",
       "      <td>2</td>\n",
       "      <td>2404</td>\n",
       "      <td>13966</td>\n",
       "      <td>1</td>\n",
       "      <td>0</td>\n",
       "      <td>8</td>\n",
       "    </tr>\n",
       "    <tr>\n",
       "      <th>249</th>\n",
       "      <td>489c5f12-2b24-48ee-98f8-a9834e121221</td>\n",
       "      <td>2021-07-18</td>\n",
       "      <td>2010</td>\n",
       "      <td>235751</td>\n",
       "      <td>3</td>\n",
       "      <td>2</td>\n",
       "      <td>2291</td>\n",
       "      <td>8991</td>\n",
       "      <td>1</td>\n",
       "      <td>0</td>\n",
       "      <td>50</td>\n",
       "    </tr>\n",
       "    <tr>\n",
       "      <th>346</th>\n",
       "      <td>9e2d70bc-5d39-4ec3-864f-eeb9806a8e01</td>\n",
       "      <td>2019-04-27</td>\n",
       "      <td>2013</td>\n",
       "      <td>156634</td>\n",
       "      <td>3</td>\n",
       "      <td>2</td>\n",
       "      <td>2427</td>\n",
       "      <td>12490</td>\n",
       "      <td>1</td>\n",
       "      <td>0</td>\n",
       "      <td>25</td>\n",
       "    </tr>\n",
       "    <tr>\n",
       "      <th>255</th>\n",
       "      <td>cfc65403-fd2b-4c0f-afac-10398d76f10f</td>\n",
       "      <td>2019-05-04</td>\n",
       "      <td>2014</td>\n",
       "      <td>197519</td>\n",
       "      <td>3</td>\n",
       "      <td>3</td>\n",
       "      <td>1668</td>\n",
       "      <td>12222</td>\n",
       "      <td>2</td>\n",
       "      <td>0</td>\n",
       "      <td>13</td>\n",
       "    </tr>\n",
       "    <tr>\n",
       "      <th>227</th>\n",
       "      <td>876167bf-993e-481e-9efd-7ba53485ac04</td>\n",
       "      <td>2019-01-20</td>\n",
       "      <td>2011</td>\n",
       "      <td>1457840</td>\n",
       "      <td>8</td>\n",
       "      <td>5</td>\n",
       "      <td>5894</td>\n",
       "      <td>12486</td>\n",
       "      <td>2</td>\n",
       "      <td>0</td>\n",
       "      <td>90</td>\n",
       "    </tr>\n",
       "    <tr>\n",
       "      <th>6</th>\n",
       "      <td>c690803e-2aec-4006-939c-9c27f9b56bc2</td>\n",
       "      <td>2020-08-06</td>\n",
       "      <td>2016</td>\n",
       "      <td>261812</td>\n",
       "      <td>4</td>\n",
       "      <td>3</td>\n",
       "      <td>1526</td>\n",
       "      <td>9875</td>\n",
       "      <td>2</td>\n",
       "      <td>0</td>\n",
       "      <td>47</td>\n",
       "    </tr>\n",
       "    <tr>\n",
       "      <th>8</th>\n",
       "      <td>309dc81e-6a69-4e43-b855-9ea42bdde02c</td>\n",
       "      <td>2022-05-16</td>\n",
       "      <td>2016</td>\n",
       "      <td>200096</td>\n",
       "      <td>3</td>\n",
       "      <td>2</td>\n",
       "      <td>1636</td>\n",
       "      <td>14376</td>\n",
       "      <td>1</td>\n",
       "      <td>0</td>\n",
       "      <td>1</td>\n",
       "    </tr>\n",
       "    <tr>\n",
       "      <th>171</th>\n",
       "      <td>99d644d3-a54e-49cd-bab4-1683d3351852</td>\n",
       "      <td>2020-11-22</td>\n",
       "      <td>2014</td>\n",
       "      <td>247262</td>\n",
       "      <td>2</td>\n",
       "      <td>2</td>\n",
       "      <td>1910</td>\n",
       "      <td>8094</td>\n",
       "      <td>1</td>\n",
       "      <td>0</td>\n",
       "      <td>20</td>\n",
       "    </tr>\n",
       "    <tr>\n",
       "      <th>297</th>\n",
       "      <td>b87adb3f-a44c-4624-a8d4-d14e7517dfa5</td>\n",
       "      <td>2019-03-19</td>\n",
       "      <td>2017</td>\n",
       "      <td>247787</td>\n",
       "      <td>2</td>\n",
       "      <td>3</td>\n",
       "      <td>2315</td>\n",
       "      <td>12447</td>\n",
       "      <td>2</td>\n",
       "      <td>0</td>\n",
       "      <td>11</td>\n",
       "    </tr>\n",
       "    <tr>\n",
       "      <th>71</th>\n",
       "      <td>98ab871b-61be-4455-96ca-bb1d33986f7e</td>\n",
       "      <td>2020-12-29</td>\n",
       "      <td>2010</td>\n",
       "      <td>398833</td>\n",
       "      <td>3</td>\n",
       "      <td>2</td>\n",
       "      <td>1938</td>\n",
       "      <td>11678</td>\n",
       "      <td>2</td>\n",
       "      <td>0</td>\n",
       "      <td>13</td>\n",
       "    </tr>\n",
       "    <tr>\n",
       "      <th>60</th>\n",
       "      <td>69bf74cc-0020-4c02-8744-d636cf770d2a</td>\n",
       "      <td>2020-03-10</td>\n",
       "      <td>2015</td>\n",
       "      <td>315187</td>\n",
       "      <td>4</td>\n",
       "      <td>3</td>\n",
       "      <td>1753</td>\n",
       "      <td>12634</td>\n",
       "      <td>2</td>\n",
       "      <td>0</td>\n",
       "      <td>29</td>\n",
       "    </tr>\n",
       "    <tr>\n",
       "      <th>38</th>\n",
       "      <td>c2a27b82-d55a-4f5d-aeb0-93a9b89d1c23</td>\n",
       "      <td>2021-12-25</td>\n",
       "      <td>2012</td>\n",
       "      <td>278757</td>\n",
       "      <td>2</td>\n",
       "      <td>3</td>\n",
       "      <td>1900</td>\n",
       "      <td>13191</td>\n",
       "      <td>2</td>\n",
       "      <td>0</td>\n",
       "      <td>5</td>\n",
       "    </tr>\n",
       "    <tr>\n",
       "      <th>310</th>\n",
       "      <td>5267b44d-03fc-42eb-8ab7-44630f3e62d0</td>\n",
       "      <td>2021-11-07</td>\n",
       "      <td>2015</td>\n",
       "      <td>129255</td>\n",
       "      <td>2</td>\n",
       "      <td>2</td>\n",
       "      <td>1641</td>\n",
       "      <td>14952</td>\n",
       "      <td>2</td>\n",
       "      <td>0</td>\n",
       "      <td>39</td>\n",
       "    </tr>\n",
       "    <tr>\n",
       "      <th>149</th>\n",
       "      <td>ed2c2d03-0989-41a1-8adf-eece007cfcfc</td>\n",
       "      <td>2019-11-13</td>\n",
       "      <td>2010</td>\n",
       "      <td>159783</td>\n",
       "      <td>3</td>\n",
       "      <td>2</td>\n",
       "      <td>1843</td>\n",
       "      <td>14846</td>\n",
       "      <td>1</td>\n",
       "      <td>0</td>\n",
       "      <td>27</td>\n",
       "    </tr>\n",
       "    <tr>\n",
       "      <th>342</th>\n",
       "      <td>b3556332-cfb2-4a67-bb3b-5b108ce66f4c</td>\n",
       "      <td>2021-03-06</td>\n",
       "      <td>2014</td>\n",
       "      <td>340276</td>\n",
       "      <td>4</td>\n",
       "      <td>3</td>\n",
       "      <td>1789</td>\n",
       "      <td>14302</td>\n",
       "      <td>1</td>\n",
       "      <td>0</td>\n",
       "      <td>39</td>\n",
       "    </tr>\n",
       "    <tr>\n",
       "      <th>333</th>\n",
       "      <td>b13e35bc-79cb-4865-952f-e16d469b97ae</td>\n",
       "      <td>2020-02-17</td>\n",
       "      <td>2013</td>\n",
       "      <td>332538</td>\n",
       "      <td>4</td>\n",
       "      <td>2</td>\n",
       "      <td>2306</td>\n",
       "      <td>13483</td>\n",
       "      <td>1</td>\n",
       "      <td>0</td>\n",
       "      <td>1</td>\n",
       "    </tr>\n",
       "    <tr>\n",
       "      <th>325</th>\n",
       "      <td>a3d99d1c-5226-4fa1-946d-65d372044be8</td>\n",
       "      <td>2020-05-08</td>\n",
       "      <td>2014</td>\n",
       "      <td>405352</td>\n",
       "      <td>2</td>\n",
       "      <td>3</td>\n",
       "      <td>1534</td>\n",
       "      <td>14010</td>\n",
       "      <td>1</td>\n",
       "      <td>0</td>\n",
       "      <td>1</td>\n",
       "    </tr>\n",
       "    <tr>\n",
       "      <th>139</th>\n",
       "      <td>0320dfb0-961c-44fc-95f8-8d773a73c288</td>\n",
       "      <td>2020-04-17</td>\n",
       "      <td>2010</td>\n",
       "      <td>359182</td>\n",
       "      <td>2</td>\n",
       "      <td>2</td>\n",
       "      <td>1568</td>\n",
       "      <td>11501</td>\n",
       "      <td>1</td>\n",
       "      <td>0</td>\n",
       "      <td>15</td>\n",
       "    </tr>\n",
       "    <tr>\n",
       "      <th>185</th>\n",
       "      <td>7c119599-5800-4ec1-9e62-e8521dfb9389</td>\n",
       "      <td>2019-05-01</td>\n",
       "      <td>2017</td>\n",
       "      <td>167719</td>\n",
       "      <td>3</td>\n",
       "      <td>3</td>\n",
       "      <td>2485</td>\n",
       "      <td>10474</td>\n",
       "      <td>2</td>\n",
       "      <td>0</td>\n",
       "      <td>39</td>\n",
       "    </tr>\n",
       "    <tr>\n",
       "      <th>110</th>\n",
       "      <td>d432eef1-10dc-400e-9277-57cb0854ae21</td>\n",
       "      <td>2019-05-17</td>\n",
       "      <td>2015</td>\n",
       "      <td>361091</td>\n",
       "      <td>4</td>\n",
       "      <td>2</td>\n",
       "      <td>2237</td>\n",
       "      <td>8026</td>\n",
       "      <td>2</td>\n",
       "      <td>0</td>\n",
       "      <td>35</td>\n",
       "    </tr>\n",
       "    <tr>\n",
       "      <th>83</th>\n",
       "      <td>62800217-cac4-483c-9155-4d073a738b98</td>\n",
       "      <td>2019-03-23</td>\n",
       "      <td>2010</td>\n",
       "      <td>180599</td>\n",
       "      <td>2</td>\n",
       "      <td>2</td>\n",
       "      <td>1526</td>\n",
       "      <td>14921</td>\n",
       "      <td>1</td>\n",
       "      <td>0</td>\n",
       "      <td>40</td>\n",
       "    </tr>\n",
       "    <tr>\n",
       "      <th>40</th>\n",
       "      <td>95f939f9-6d63-45f0-8934-7695c4452e9a</td>\n",
       "      <td>2019-06-08</td>\n",
       "      <td>2017</td>\n",
       "      <td>192613</td>\n",
       "      <td>2</td>\n",
       "      <td>3</td>\n",
       "      <td>1993</td>\n",
       "      <td>9538</td>\n",
       "      <td>1</td>\n",
       "      <td>0</td>\n",
       "      <td>20</td>\n",
       "    </tr>\n",
       "    <tr>\n",
       "      <th>32</th>\n",
       "      <td>e9321cb9-7320-4c70-b213-0978648cac31</td>\n",
       "      <td>2021-11-16</td>\n",
       "      <td>2010</td>\n",
       "      <td>419361</td>\n",
       "      <td>4</td>\n",
       "      <td>3</td>\n",
       "      <td>2174</td>\n",
       "      <td>14606</td>\n",
       "      <td>2</td>\n",
       "      <td>0</td>\n",
       "      <td>47</td>\n",
       "    </tr>\n",
       "    <tr>\n",
       "      <th>129</th>\n",
       "      <td>6d19e176-df72-4a2b-977d-41b095aab9df</td>\n",
       "      <td>2020-03-21</td>\n",
       "      <td>2016</td>\n",
       "      <td>165920</td>\n",
       "      <td>3</td>\n",
       "      <td>2</td>\n",
       "      <td>1798</td>\n",
       "      <td>13948</td>\n",
       "      <td>1</td>\n",
       "      <td>0</td>\n",
       "      <td>10</td>\n",
       "    </tr>\n",
       "  </tbody>\n",
       "</table>\n",
       "</div>"
      ],
      "text/plain": [
       "                                       id       date  date_built    price  \\\n",
       "216  fa301e3a-abf2-431c-86a6-d3de64281341 2019-06-24        2010   166531   \n",
       "190  c95680ce-4d0f-48f8-8378-35e42fbf27cc 2019-09-29        2017   926152   \n",
       "343  2b20cbba-632f-44df-a184-138f4d01ef08 2020-10-16        2016   413815   \n",
       "264  ee9d596a-ccab-4326-89ad-a525d8d56c80 2021-12-15        2010   669650   \n",
       "252  38736c6b-813d-4d04-bafd-ab9e2430e3fa 2020-11-21        2016   333248   \n",
       "114  363dc0a0-23ba-402b-b046-1cfc55010076 2022-05-19        2015   261886   \n",
       "164  b4471c22-e001-45dc-aec2-6311afd96515 2019-04-11        2017   295901   \n",
       "249  489c5f12-2b24-48ee-98f8-a9834e121221 2021-07-18        2010   235751   \n",
       "346  9e2d70bc-5d39-4ec3-864f-eeb9806a8e01 2019-04-27        2013   156634   \n",
       "255  cfc65403-fd2b-4c0f-afac-10398d76f10f 2019-05-04        2014   197519   \n",
       "227  876167bf-993e-481e-9efd-7ba53485ac04 2019-01-20        2011  1457840   \n",
       "6    c690803e-2aec-4006-939c-9c27f9b56bc2 2020-08-06        2016   261812   \n",
       "8    309dc81e-6a69-4e43-b855-9ea42bdde02c 2022-05-16        2016   200096   \n",
       "171  99d644d3-a54e-49cd-bab4-1683d3351852 2020-11-22        2014   247262   \n",
       "297  b87adb3f-a44c-4624-a8d4-d14e7517dfa5 2019-03-19        2017   247787   \n",
       "71   98ab871b-61be-4455-96ca-bb1d33986f7e 2020-12-29        2010   398833   \n",
       "60   69bf74cc-0020-4c02-8744-d636cf770d2a 2020-03-10        2015   315187   \n",
       "38   c2a27b82-d55a-4f5d-aeb0-93a9b89d1c23 2021-12-25        2012   278757   \n",
       "310  5267b44d-03fc-42eb-8ab7-44630f3e62d0 2021-11-07        2015   129255   \n",
       "149  ed2c2d03-0989-41a1-8adf-eece007cfcfc 2019-11-13        2010   159783   \n",
       "342  b3556332-cfb2-4a67-bb3b-5b108ce66f4c 2021-03-06        2014   340276   \n",
       "333  b13e35bc-79cb-4865-952f-e16d469b97ae 2020-02-17        2013   332538   \n",
       "325  a3d99d1c-5226-4fa1-946d-65d372044be8 2020-05-08        2014   405352   \n",
       "139  0320dfb0-961c-44fc-95f8-8d773a73c288 2020-04-17        2010   359182   \n",
       "185  7c119599-5800-4ec1-9e62-e8521dfb9389 2019-05-01        2017   167719   \n",
       "110  d432eef1-10dc-400e-9277-57cb0854ae21 2019-05-17        2015   361091   \n",
       "83   62800217-cac4-483c-9155-4d073a738b98 2019-03-23        2010   180599   \n",
       "40   95f939f9-6d63-45f0-8934-7695c4452e9a 2019-06-08        2017   192613   \n",
       "32   e9321cb9-7320-4c70-b213-0978648cac31 2021-11-16        2010   419361   \n",
       "129  6d19e176-df72-4a2b-977d-41b095aab9df 2020-03-21        2016   165920   \n",
       "\n",
       "     bedrooms  bathrooms  sqft_living  sqft_lot  floors  waterfront  view  \n",
       "216         4          2         2409     13113       1           0     4  \n",
       "190         5          6         3146      8811       2           0   100  \n",
       "343         3          2         1712     12963       2           0    30  \n",
       "264         5          4         3749     12102       1           1    60  \n",
       "252         2          2         2013     14007       2           0    36  \n",
       "114         3          3         2294     12438       2           0    39  \n",
       "164         4          2         2404     13966       1           0     8  \n",
       "249         3          2         2291      8991       1           0    50  \n",
       "346         3          2         2427     12490       1           0    25  \n",
       "255         3          3         1668     12222       2           0    13  \n",
       "227         8          5         5894     12486       2           0    90  \n",
       "6           4          3         1526      9875       2           0    47  \n",
       "8           3          2         1636     14376       1           0     1  \n",
       "171         2          2         1910      8094       1           0    20  \n",
       "297         2          3         2315     12447       2           0    11  \n",
       "71          3          2         1938     11678       2           0    13  \n",
       "60          4          3         1753     12634       2           0    29  \n",
       "38          2          3         1900     13191       2           0     5  \n",
       "310         2          2         1641     14952       2           0    39  \n",
       "149         3          2         1843     14846       1           0    27  \n",
       "342         4          3         1789     14302       1           0    39  \n",
       "333         4          2         2306     13483       1           0     1  \n",
       "325         2          3         1534     14010       1           0     1  \n",
       "139         2          2         1568     11501       1           0    15  \n",
       "185         3          3         2485     10474       2           0    39  \n",
       "110         4          2         2237      8026       2           0    35  \n",
       "83          2          2         1526     14921       1           0    40  \n",
       "40          2          3         1993      9538       1           0    20  \n",
       "32          4          3         2174     14606       2           0    47  \n",
       "129         3          2         1798     13948       1           0    10  "
      ]
     },
     "execution_count": 6,
     "metadata": {},
     "output_type": "execute_result"
    }
   ],
   "source": [
    "# display the home_sales\n",
    "display_df(homesales_df, 0.01, 30)"
   ]
  },
  {
   "cell_type": "code",
   "execution_count": 7,
   "metadata": {
    "ExecuteTime": {
     "end_time": "2023-05-21T19:57:52.528856Z",
     "start_time": "2023-05-21T19:57:52.496014Z"
    }
   },
   "outputs": [],
   "source": [
    "# 2. Create a temporary view of the DataFrame.\n",
    "homesales_df.createOrReplaceTempView(\"home_sales\")"
   ]
  },
  {
   "cell_type": "code",
   "execution_count": 8,
   "metadata": {
    "ExecuteTime": {
     "end_time": "2023-05-21T19:57:54.024545Z",
     "start_time": "2023-05-21T19:57:53.560816Z"
    }
   },
   "outputs": [
    {
     "data": {
      "text/html": [
       "<div>\n",
       "<style scoped>\n",
       "    .dataframe tbody tr th:only-of-type {\n",
       "        vertical-align: middle;\n",
       "    }\n",
       "\n",
       "    .dataframe tbody tr th {\n",
       "        vertical-align: top;\n",
       "    }\n",
       "\n",
       "    .dataframe thead th {\n",
       "        text-align: right;\n",
       "    }\n",
       "</style>\n",
       "<table border=\"1\" class=\"dataframe\">\n",
       "  <thead>\n",
       "    <tr style=\"text-align: right;\">\n",
       "      <th></th>\n",
       "      <th>year</th>\n",
       "      <th>avg_price</th>\n",
       "    </tr>\n",
       "  </thead>\n",
       "  <tbody>\n",
       "    <tr>\n",
       "      <th>0</th>\n",
       "      <td>2019</td>\n",
       "      <td>300263.70</td>\n",
       "    </tr>\n",
       "    <tr>\n",
       "      <th>1</th>\n",
       "      <td>2020</td>\n",
       "      <td>298353.78</td>\n",
       "    </tr>\n",
       "    <tr>\n",
       "      <th>2</th>\n",
       "      <td>2021</td>\n",
       "      <td>301819.44</td>\n",
       "    </tr>\n",
       "    <tr>\n",
       "      <th>3</th>\n",
       "      <td>2022</td>\n",
       "      <td>296363.88</td>\n",
       "    </tr>\n",
       "  </tbody>\n",
       "</table>\n",
       "</div>"
      ],
      "text/plain": [
       "   year  avg_price\n",
       "0  2019  300263.70\n",
       "1  2020  298353.78\n",
       "2  2021  301819.44\n",
       "3  2022  296363.88"
      ]
     },
     "execution_count": 8,
     "metadata": {},
     "output_type": "execute_result"
    }
   ],
   "source": [
    "# 3. What is the average price for a four bedroom house sold in each year rounded to two decimal places?\n",
    "avg_price_four_bed = spark.sql(\"\"\"\n",
    "SELECT \n",
    "    year(to_date(date, 'yyyy-MM-dd')) as year, \n",
    "    round(AVG(price), 2) as avg_price \n",
    "FROM \n",
    "    home_sales \n",
    "WHERE \n",
    "    bedrooms = 4\n",
    "GROUP BY \n",
    "    year\n",
    "ORDER BY \n",
    "    year\n",
    "\"\"\")\n",
    "\n",
    "# convert to pandas dataframe\n",
    "avg_price_four_bed_df = avg_price_four_bed.toPandas()\n",
    "avg_price_four_bed_df"
   ]
  },
  {
   "cell_type": "code",
   "execution_count": 9,
   "metadata": {
    "ExecuteTime": {
     "end_time": "2023-05-21T19:58:18.126062Z",
     "start_time": "2023-05-21T19:58:17.944456Z"
    },
    "colab": {
     "base_uri": "https://localhost:8080/"
    },
    "id": "l8p_tUS8h8it",
    "outputId": "65806e5f-6262-41c0-ff65-5107464e5c4d"
   },
   "outputs": [
    {
     "data": {
      "text/html": [
       "<div>\n",
       "<style scoped>\n",
       "    .dataframe tbody tr th:only-of-type {\n",
       "        vertical-align: middle;\n",
       "    }\n",
       "\n",
       "    .dataframe tbody tr th {\n",
       "        vertical-align: top;\n",
       "    }\n",
       "\n",
       "    .dataframe thead th {\n",
       "        text-align: right;\n",
       "    }\n",
       "</style>\n",
       "<table border=\"1\" class=\"dataframe\">\n",
       "  <thead>\n",
       "    <tr style=\"text-align: right;\">\n",
       "      <th></th>\n",
       "      <th>date_built</th>\n",
       "      <th>avg_price</th>\n",
       "    </tr>\n",
       "  </thead>\n",
       "  <tbody>\n",
       "    <tr>\n",
       "      <th>0</th>\n",
       "      <td>2010</td>\n",
       "      <td>292859.62</td>\n",
       "    </tr>\n",
       "    <tr>\n",
       "      <th>1</th>\n",
       "      <td>2011</td>\n",
       "      <td>291117.47</td>\n",
       "    </tr>\n",
       "    <tr>\n",
       "      <th>2</th>\n",
       "      <td>2012</td>\n",
       "      <td>293683.19</td>\n",
       "    </tr>\n",
       "    <tr>\n",
       "      <th>3</th>\n",
       "      <td>2013</td>\n",
       "      <td>295962.27</td>\n",
       "    </tr>\n",
       "    <tr>\n",
       "      <th>4</th>\n",
       "      <td>2014</td>\n",
       "      <td>290852.27</td>\n",
       "    </tr>\n",
       "    <tr>\n",
       "      <th>5</th>\n",
       "      <td>2015</td>\n",
       "      <td>288770.30</td>\n",
       "    </tr>\n",
       "    <tr>\n",
       "      <th>6</th>\n",
       "      <td>2016</td>\n",
       "      <td>290555.07</td>\n",
       "    </tr>\n",
       "    <tr>\n",
       "      <th>7</th>\n",
       "      <td>2017</td>\n",
       "      <td>292676.79</td>\n",
       "    </tr>\n",
       "  </tbody>\n",
       "</table>\n",
       "</div>"
      ],
      "text/plain": [
       "   date_built  avg_price\n",
       "0        2010  292859.62\n",
       "1        2011  291117.47\n",
       "2        2012  293683.19\n",
       "3        2013  295962.27\n",
       "4        2014  290852.27\n",
       "5        2015  288770.30\n",
       "6        2016  290555.07\n",
       "7        2017  292676.79"
      ]
     },
     "execution_count": 9,
     "metadata": {},
     "output_type": "execute_result"
    }
   ],
   "source": [
    "# 4. What is the average price of a home for each year the home was built that have 3 bedrooms and 3 bathrooms rounded to two decimal places?\n",
    "avg_price_3bed_3bath = spark.sql(\"\"\"\n",
    "SELECT \n",
    "    date_built,\n",
    "    round(AVG(price), 2) as avg_price \n",
    "FROM \n",
    "    home_sales \n",
    "WHERE \n",
    "    bedrooms = 3 AND bathrooms = 3\n",
    "GROUP BY \n",
    "    date_built\n",
    "ORDER BY \n",
    "    date_built\n",
    "\"\"\")\n",
    "\n",
    "# convert to pandas dataframe\n",
    "avg_price_3bed_3bath_df = avg_price_3bed_3bath.toPandas()\n",
    "avg_price_3bed_3bath_df\n",
    "\n"
   ]
  },
  {
   "cell_type": "code",
   "execution_count": 10,
   "metadata": {
    "ExecuteTime": {
     "end_time": "2023-05-21T19:59:38.228145Z",
     "start_time": "2023-05-21T19:59:38.031620Z"
    },
    "colab": {
     "base_uri": "https://localhost:8080/"
    },
    "id": "Y-Eytz64liDU",
    "outputId": "17119810-56ad-40c3-de5e-c3db57e43bcc"
   },
   "outputs": [
    {
     "data": {
      "text/html": [
       "<div>\n",
       "<style scoped>\n",
       "    .dataframe tbody tr th:only-of-type {\n",
       "        vertical-align: middle;\n",
       "    }\n",
       "\n",
       "    .dataframe tbody tr th {\n",
       "        vertical-align: top;\n",
       "    }\n",
       "\n",
       "    .dataframe thead th {\n",
       "        text-align: right;\n",
       "    }\n",
       "</style>\n",
       "<table border=\"1\" class=\"dataframe\">\n",
       "  <thead>\n",
       "    <tr style=\"text-align: right;\">\n",
       "      <th></th>\n",
       "      <th>date_built</th>\n",
       "      <th>avg_price</th>\n",
       "    </tr>\n",
       "  </thead>\n",
       "  <tbody>\n",
       "    <tr>\n",
       "      <th>0</th>\n",
       "      <td>2010</td>\n",
       "      <td>285010.22</td>\n",
       "    </tr>\n",
       "    <tr>\n",
       "      <th>1</th>\n",
       "      <td>2011</td>\n",
       "      <td>276553.81</td>\n",
       "    </tr>\n",
       "    <tr>\n",
       "      <th>2</th>\n",
       "      <td>2012</td>\n",
       "      <td>307539.97</td>\n",
       "    </tr>\n",
       "    <tr>\n",
       "      <th>3</th>\n",
       "      <td>2013</td>\n",
       "      <td>303676.79</td>\n",
       "    </tr>\n",
       "    <tr>\n",
       "      <th>4</th>\n",
       "      <td>2014</td>\n",
       "      <td>298264.72</td>\n",
       "    </tr>\n",
       "    <tr>\n",
       "      <th>5</th>\n",
       "      <td>2015</td>\n",
       "      <td>297609.97</td>\n",
       "    </tr>\n",
       "    <tr>\n",
       "      <th>6</th>\n",
       "      <td>2016</td>\n",
       "      <td>293965.10</td>\n",
       "    </tr>\n",
       "    <tr>\n",
       "      <th>7</th>\n",
       "      <td>2017</td>\n",
       "      <td>280317.58</td>\n",
       "    </tr>\n",
       "  </tbody>\n",
       "</table>\n",
       "</div>"
      ],
      "text/plain": [
       "   date_built  avg_price\n",
       "0        2010  285010.22\n",
       "1        2011  276553.81\n",
       "2        2012  307539.97\n",
       "3        2013  303676.79\n",
       "4        2014  298264.72\n",
       "5        2015  297609.97\n",
       "6        2016  293965.10\n",
       "7        2017  280317.58"
      ]
     },
     "execution_count": 10,
     "metadata": {},
     "output_type": "execute_result"
    }
   ],
   "source": [
    "#  5. What is the average price of a home for each year built that have 3 bedrooms, 3 bathrooms, with two floors,\n",
    "# and are greater than or equal to 2,000 square feet rounded to two decimal places?\n",
    "avg_price_3bed_3bath_2floors_gte2000sqft = spark.sql(\"\"\"\n",
    "SELECT \n",
    "    date_built,\n",
    "    round(AVG(price), 2) as avg_price \n",
    "FROM \n",
    "    home_sales \n",
    "WHERE \n",
    "    bedrooms = 3 AND \n",
    "    bathrooms = 3 AND \n",
    "    floors = 2 AND \n",
    "    sqft_living >= 2000\n",
    "GROUP BY \n",
    "    date_built\n",
    "ORDER BY \n",
    "    date_built\n",
    "\"\"\")\n",
    "\n",
    "# convert to pandas dataframe\n",
    "avg_price_3bed_3bath_2floors_gte2000sqft_df = avg_price_3bed_3bath_2floors_gte2000sqft.toPandas()\n",
    "avg_price_3bed_3bath_2floors_gte2000sqft_df\n",
    "\n"
   ]
  },
  {
   "cell_type": "code",
   "execution_count": 11,
   "metadata": {
    "ExecuteTime": {
     "end_time": "2023-05-21T20:00:22.681866Z",
     "start_time": "2023-05-21T20:00:22.581752Z"
    },
    "colab": {
     "base_uri": "https://localhost:8080/"
    },
    "id": "GUrfgOX1pCRd",
    "outputId": "17c25774-855e-4290-a4bd-a04902bdc13a"
   },
   "outputs": [
    {
     "name": "stdout",
     "output_type": "stream",
     "text": [
      "   avg_view_rating\n",
      "0            32.26\n",
      "--- 0.09606695175170898 seconds ---\n"
     ]
    }
   ],
   "source": [
    "# 6. What is the \"view\" rating for the average price of a home, rounded to two decimal places, where the homes are greater than\n",
    "# or equal to $350,000? Although this is a small dataset, determine the run time for this query.\n",
    "\n",
    "start_time = time.time()\n",
    "\n",
    "view_avg_gte350K = spark.sql(\"\"\"\n",
    "SELECT \n",
    "    round(AVG(view), 2) as avg_view_rating\n",
    "FROM \n",
    "    home_sales \n",
    "WHERE \n",
    "    price >= 350000\n",
    "\"\"\")\n",
    "\n",
    "# convert to pandas dataframe\n",
    "view_avg_gte350K_df = view_avg_gte350K.toPandas()\n",
    "print(view_avg_gte350K_df)\n",
    "\n",
    "\n",
    "\n",
    "print(\"--- %s seconds ---\" % (time.time() - start_time))"
   ]
  },
  {
   "cell_type": "code",
   "execution_count": 12,
   "metadata": {
    "ExecuteTime": {
     "end_time": "2023-05-21T20:00:27.070883Z",
     "start_time": "2023-05-21T20:00:26.835851Z"
    },
    "colab": {
     "base_uri": "https://localhost:8080/"
    },
    "id": "KAhk3ZD2tFy8",
    "outputId": "0a8f132d-40a8-4bd4-b5f2-2847e98427f5"
   },
   "outputs": [
    {
     "data": {
      "text/plain": [
       "DataFrame[]"
      ]
     },
     "execution_count": 12,
     "metadata": {},
     "output_type": "execute_result"
    }
   ],
   "source": [
    "# 7. Cache the the temporary table home_sales.\n",
    "spark.sql(\"CACHE TABLE home_sales\")\n"
   ]
  },
  {
   "cell_type": "code",
   "execution_count": 13,
   "metadata": {
    "ExecuteTime": {
     "end_time": "2023-05-21T20:00:28.155627Z",
     "start_time": "2023-05-21T20:00:28.138343Z"
    },
    "colab": {
     "base_uri": "https://localhost:8080/"
    },
    "id": "4opVhbvxtL-i",
    "outputId": "38ec8487-795f-4550-b50c-fcc6f2b7c769"
   },
   "outputs": [
    {
     "data": {
      "text/plain": [
       "True"
      ]
     },
     "execution_count": 13,
     "metadata": {},
     "output_type": "execute_result"
    }
   ],
   "source": [
    "# 8. Check if the table is cached.\n",
    "spark.catalog.isCached('home_sales')"
   ]
  },
  {
   "cell_type": "code",
   "execution_count": 14,
   "metadata": {
    "ExecuteTime": {
     "end_time": "2023-05-21T20:00:29.497960Z",
     "start_time": "2023-05-21T20:00:29.397579Z"
    },
    "colab": {
     "base_uri": "https://localhost:8080/"
    },
    "id": "5GnL46lwTSEk",
    "outputId": "09a16c73-194d-4371-95d1-ee64fe83b91c"
   },
   "outputs": [
    {
     "name": "stdout",
     "output_type": "stream",
     "text": [
      "   avg_view_rating\n",
      "0            32.26\n",
      "--- 0.09694790840148926 seconds ---\n"
     ]
    }
   ],
   "source": [
    "# 9. Using the cached data, run the query that filters out the view ratings with average price \n",
    "#  greater than or equal to $350,000. Determine the runtime and compare it to uncached runtime.\n",
    "\n",
    "start_time = time.time()\n",
    "\n",
    "view_avg_gte350K_cache = spark.sql(\"\"\"\n",
    "SELECT \n",
    "    round(AVG(view), 2) as avg_view_rating\n",
    "FROM \n",
    "    home_sales \n",
    "WHERE \n",
    "    price >= 350000\n",
    "\"\"\")\n",
    "\n",
    "# convert to pandas dataframe\n",
    "view_avg_gte350K_cache_df = view_avg_gte350K_cache.toPandas()\n",
    "print(view_avg_gte350K_cache_df)\n",
    "\n",
    "print(\"--- %s seconds ---\" % (time.time() - start_time))\n"
   ]
  },
  {
   "cell_type": "code",
   "execution_count": 15,
   "metadata": {
    "ExecuteTime": {
     "end_time": "2023-05-21T20:00:31.956360Z",
     "start_time": "2023-05-21T20:00:31.040686Z"
    },
    "id": "Qm12WN9isHBR"
   },
   "outputs": [
    {
     "name": "stderr",
     "output_type": "stream",
     "text": [
      "                                                                                \r"
     ]
    }
   ],
   "source": [
    "# 10. Partition by the \"date_built\" field on the formatted parquet home sales data \n",
    "\n",
    "\n",
    "homesales_df.write.partitionBy(\"date_built\").mode(\"overwrite\").parquet(\"home_sales_partitioned\")\n"
   ]
  },
  {
   "cell_type": "code",
   "execution_count": 16,
   "metadata": {
    "ExecuteTime": {
     "end_time": "2023-05-21T20:00:34.697447Z",
     "start_time": "2023-05-21T20:00:34.596401Z"
    },
    "id": "AZ7BgY61sRqY"
   },
   "outputs": [],
   "source": [
    "# 11. Read the formatted parquet data.\n",
    "p_homesales_df=spark.read.parquet('home_sales_partitioned')"
   ]
  },
  {
   "cell_type": "code",
   "execution_count": 17,
   "metadata": {
    "ExecuteTime": {
     "end_time": "2023-05-21T20:00:35.946845Z",
     "start_time": "2023-05-21T20:00:35.931715Z"
    },
    "id": "J6MJkHfvVcvh"
   },
   "outputs": [],
   "source": [
    "# 12. Create a temporary table for the parquet data.\n",
    "p_homesales_df.createOrReplaceTempView('p_homesales_df')"
   ]
  },
  {
   "cell_type": "code",
   "execution_count": 18,
   "metadata": {
    "ExecuteTime": {
     "end_time": "2023-05-21T20:00:37.578317Z",
     "start_time": "2023-05-21T20:00:37.430742Z"
    },
    "colab": {
     "base_uri": "https://localhost:8080/"
    },
    "id": "G_Vhb52rU1Sn",
    "outputId": "a0b8d0c4-55ed-4c6c-bfd8-4c8c5334838e"
   },
   "outputs": [
    {
     "name": "stdout",
     "output_type": "stream",
     "text": [
      "   avg_view_rating\n",
      "0            32.26\n",
      "--- 0.1441500186920166 seconds ---\n"
     ]
    }
   ],
   "source": [
    "# 13. Run the query that filters out the view ratings with average price of greater than or eqaul to $350,000 \n",
    "# with the parquet DataFrame. Round your average to two decimal places. \n",
    "# Determine the runtime and compare it to the cached version. \n",
    "\n",
    "start_time = time.time()\n",
    "\n",
    "p_view_avg_gte350K_cache = spark.sql(\"\"\"\n",
    "SELECT \n",
    "    round(AVG(view), 2) as avg_view_rating\n",
    "FROM \n",
    "    p_homesales_df \n",
    "WHERE \n",
    "    price >= 350000\n",
    "\"\"\")\n",
    "\n",
    "# convert to pandas dataframe\n",
    "p_view_avg_gte350K_cache_df = p_view_avg_gte350K_cache.toPandas()\n",
    "print(p_view_avg_gte350K_cache_df)\n",
    "\n",
    "print(\"--- %s seconds ---\" % (time.time() - start_time))"
   ]
  },
  {
   "cell_type": "code",
   "execution_count": 19,
   "metadata": {
    "ExecuteTime": {
     "end_time": "2023-05-21T20:00:41.486145Z",
     "start_time": "2023-05-21T20:00:41.457495Z"
    },
    "colab": {
     "base_uri": "https://localhost:8080/"
    },
    "id": "hjjYzQGjtbq8",
    "outputId": "830549fd-bb41-451b-9183-5ebf6e3e470b"
   },
   "outputs": [
    {
     "data": {
      "text/plain": [
       "DataFrame[]"
      ]
     },
     "execution_count": 19,
     "metadata": {},
     "output_type": "execute_result"
    }
   ],
   "source": [
    "# 14. Uncache the home_sales temporary table.\n",
    "spark.sql(\"UNCACHE TABLE home_sales\")"
   ]
  },
  {
   "cell_type": "code",
   "execution_count": 20,
   "metadata": {
    "ExecuteTime": {
     "end_time": "2023-05-21T20:00:43.159147Z",
     "start_time": "2023-05-21T20:00:43.144930Z"
    },
    "colab": {
     "base_uri": "https://localhost:8080/"
    },
    "id": "Sy9NBvO7tlmm",
    "outputId": "be73e0e3-5e85-4794-aad9-025fb6fa84a7"
   },
   "outputs": [
    {
     "data": {
      "text/plain": [
       "False"
      ]
     },
     "execution_count": 20,
     "metadata": {},
     "output_type": "execute_result"
    }
   ],
   "source": [
    "# 15. Check if the home_sales is no longer cached\n",
    "\n",
    "spark.catalog.isCached(\"home_sales\")"
   ]
  },
  {
   "cell_type": "code",
   "execution_count": null,
   "metadata": {},
   "outputs": [],
   "source": []
  }
 ],
 "metadata": {
  "colab": {
   "collapsed_sections": [],
   "name": "Copy of Home_Sales_solution.ipynb",
   "provenance": []
  },
  "kernelspec": {
   "display_name": "neuralpython",
   "language": "python",
   "name": "neuralpython"
  },
  "language_info": {
   "codemirror_mode": {
    "name": "ipython",
    "version": 3
   },
   "file_extension": ".py",
   "mimetype": "text/x-python",
   "name": "python",
   "nbconvert_exporter": "python",
   "pygments_lexer": "ipython3",
   "version": "3.10.9"
  },
  "nteract": {
   "version": "0.28.0"
  }
 },
 "nbformat": 4,
 "nbformat_minor": 1
}
